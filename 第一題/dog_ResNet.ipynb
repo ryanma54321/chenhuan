{
 "cells": [
  {
   "cell_type": "code",
   "execution_count": null,
   "id": "d6649825-24b0-4ff4-85ea-2ef2fbdd70de",
   "metadata": {},
   "outputs": [],
   "source": [
    "import keras\n",
    "\n",
    "\n",
    "def Conv2D_BN(inputs,filter,kernel,padding,stride):\n",
    "    outputs = keras.layers.Conv2D(filters=filter,kernel_size=kernel,padding=padding,strides=stride,activation='relu')(inputs)\n",
    "    outputs = keras.layers.BatchNormalization()(outputs)\n",
    "    return outputs\n",
    "\n",
    "def residual_block(inputs,filter,stride,whether_identity_change=False):\n",
    "    x = Conv2D_BN(inputs, filter[0], kernel=(1,1), padding='same', stride=stride)\n",
    "    x = Conv2D_BN(x, filter[1], kernel=(3,3), padding='same', stride=1)\n",
    "    x = Conv2D_BN(x, filter[2] ,kernel=(1,1), padding='same', stride=1)\n",
    "\n",
    "  # 累加必須保持尺寸一致，控制恆等層是否需要變channel數和壓縮尺寸\n",
    "    if whether_identity_change:\n",
    "        identity = Conv2D_BN(inputs, filter[2], kernel=(1,1), padding='same', stride=stride)\n",
    "        x = keras.layers.add([x,identity])\n",
    "        return x\n",
    "    else:\n",
    "        x = keras.layers.add([x,inputs])\n",
    "        return x\n",
    "def ResNet():\n",
    "\tinputs = keras.Input(shape=(224,224,3))\n",
    "\tx = Conv2D_BN(inputs,64,(7,7),'same',2)\n",
    "\tx = keras.layers.MaxPool2D(pool_size=(3,3), strides=2, padding='same')(x)\n",
    "\n",
    "\tx = residual_block(x,[64,64,256],1,True)\n",
    "\tx = residual_block(x,[64,64,256],1)\n",
    "\tx = residual_block(x,[64,64,256],1)\n",
    "\n",
    "\tx = residual_block(x,[128,128,512],2,True)\n",
    "\tx = residual_block(x,[128,128,512],1)\n",
    "\tx = residual_block(x,[128,128,512],1)\n",
    "\tx = residual_block(x,[128,128,512],1)\n",
    "\n",
    "\tx = residual_block(x,[256,256,1024],2,True)\n",
    "\tx = residual_block(x,[256,256,1024],1)\n",
    "\tx = residual_block(x,[256,256,1024],1)\n",
    "\tx = residual_block(x,[256,256,1024],1)\n",
    "\tx = residual_block(x,[256,256,1024],1)\n",
    "\tx = residual_block(x,[256,256,1024],1)\n",
    "\n",
    "\tx = residual_block(x,[512,512,2048],2,True)\n",
    "\tx = residual_block(x,[512,512,2048],1)\n",
    "\tx = residual_block(x,[512,512,2048],1)\n",
    "\n",
    "\tx = keras.layers.AveragePooling2D(pool_size=(7,7))(x)\n",
    "\tx = keras.layers.Flatten()(x)\n",
    "\tx = keras.layers.Dense(15,activation='softmax')(x)\n",
    "\n",
    "\tmodel = keras.Model(inputs=inputs,outputs=x)\n",
    "\tmodel.summary()\n",
    "\treturn model\n"
   ]
  }
 ],
 "metadata": {
  "kernelspec": {
   "display_name": "Python 3 (ipykernel)",
   "language": "python",
   "name": "python3"
  },
  "language_info": {
   "codemirror_mode": {
    "name": "ipython",
    "version": 3
   },
   "file_extension": ".py",
   "mimetype": "text/x-python",
   "name": "python",
   "nbconvert_exporter": "python",
   "pygments_lexer": "ipython3",
   "version": "3.11.7"
  }
 },
 "nbformat": 4,
 "nbformat_minor": 5
}
