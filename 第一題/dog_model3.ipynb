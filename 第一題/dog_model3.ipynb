from keras.models import Sequential
from keras.layers import Dense, Dropout, Activation, Flatten, Conv2D, MaxPooling2D, ZeroPadding2D, BatchNormalization, Concatenate, AveragePooling2D
from keras.src.layers import GlobalAveragePooling2D


def create_densenet_model():
    # 初始化一個 Sequential 模型
    model = Sequential()

    # 定義DenseNet的初始參數
    growth_rate = 12
    dense_blocks = 3
    layers_per_block = 4

    # 定義第一個卷積層（即入口層）
    model.add(Conv2D(filters=2 * growth_rate,
                     kernel_size=(7, 7),
                     strides=(2, 2),
                     padding='same',
                     activation='relu',
                     input_shape=(224, 224, 3)))

    # 加入 BatchNormalization 層
    model.add(BatchNormalization())

    # 加入最大池化層
    model.add(MaxPooling2D(pool_size=(3, 3), strides=(2, 2), padding='same'))

    # 建立多個 Dense Blocks
    for block in range(dense_blocks):
        # 建立一個 Dense Block
        for layer in range(layers_per_block):
            # 加入 BatchNormalization 層
            model.add(BatchNormalization())
            # 加入 Activation 層
            model.add(Activation('relu'))
            # 加入 1x1 卷積層（Bottleneck layer）
            model.add(Conv2D(filters=4 * growth_rate, kernel_size=(1, 1), padding='same', activation='relu'))
            # 加入 3x3 卷積層
            model.add(Conv2D(filters=growth_rate, kernel_size=(3, 3), padding='same', activation='relu'))
        # 每個 Dense Block 之間加入 Transition Layer
        if block != dense_blocks - 1:
            # 加入 BatchNormalization 層
            model.add(BatchNormalization())
            # 加入 Activation 層
            model.add(Activation('relu'))
            # 加入 1x1 卷積層（Bottleneck layer）
            model.add(Conv2D(filters=4 * growth_rate, kernel_size=(1, 1), padding='same', activation='relu'))
            # 加入 Average Pooling 層
            model.add(AveragePooling2D(pool_size=(2, 2), strides=(2, 2)))

    # 加入全局平均池化層
    model.add(GlobalAveragePooling2D())

    # 加入全連接層（Dense Layer）
    model.add(Dense(15, activation='softmax'))

    # 輸出模型摘要
    print(model.summary())

    return model