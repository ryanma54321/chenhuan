'''label_dict = {
    0:"Airedale",
    1:"Beagle",
    2:"Bloodhound",
    3:"Bluetick",
    4:"Chihuahua" ,
    5:"Collie",
    6:"Dingo",
    7:"French Bulldog",
    8:"German Sheperd",
    9:"Malinois",
    10:"Newfoundland",
    11:"Pekinese",
    12:"Pomeranian",
    13:"Pug",
    14:"Vizsla",
}'''

# [ 3. 將images進行預處理 ]

# 匯入相關模組
import numpy as np
from keras.src.utils import to_categorical

np.random.seed(3)

# Step1. 整理data.csv後，讀取並存成list
# train資料

import csv
from keras.preprocessing.image import img_to_array
import numpy as np
from PIL import Image
import os

def pre():
    DATA_DIR = "D:/chenhuan/"  # 圖片資料夾路徑
    train_img = []
    train_label = []
    test_img = []
    test_label = []
    valid_img = []
    valid_label = []
    count = -1
    tmp = ""
    tmp2 = ""
    with open('D:/chenhuan/dogs.csv', mode='r', encoding='utf-8') as f:
        reader = csv.reader(f)
        for row in reader:
            # images
            if row[2] != tmp2 :
                tmp2 = row[2]
                count = -1
            im = Image.open(DATA_DIR + row[0])
            if row[1] != tmp:
                # label
                tmp = row[1]
                count += 1
            arr_img = img_to_array(im)
            if row[2] == "train" :
                train_img.append(arr_img)
                print(row[0], count)
                train_label.append(count)
            elif row[2] == "test":
                test_img.append(arr_img)
                print(row[0], count)
                test_label.append(count)
            elif row[2] == "valid" :
                valid_img.append(arr_img)
                print(row[0], count)
                valid_label.append(count)
            print(row[0], 'has already in list!')
            print(row[1], 'has already in list!')

    # Step2. 查看train_img及train_label情況

    print(train_img[0].shape)
    print(train_label[0])

    # Step3. 將list轉為np.array

    train_img = np.array(train_img)
    train_label = np.array(train_label)
    test_img = np.array(test_img)
    test_label = np.array(test_label)
    valid_img = np.array(valid_img)
    valid_label = np.array(valid_label)

    # Step4. 將照片影像image的數字標準化

    train_img_normalize = train_img.astype('float32')/255.0
    test_img_normalize = test_img.astype('float32')/255.0
    valid_img_normalize = valid_img.astype('float32')/255.0

    # Step5. 查看照片影像image標準化後的結果
    print(train_img_normalize[0][0][0])

    #將label標籤欄位轉換為One-hot encoding
    print(train_label.shape)
    from keras.utils import to_categorical
    train_label_OneHot = to_categorical(train_label)
    test_label_OneHot = to_categorical(test_label)
    valid_label_OneHot = to_categorical(valid_label)

    # One-hot encoding轉換之後的label標籤欄位
    print(train_label_OneHot.shape)
    print(test_label_OneHot.shape)
    print(valid_label_OneHot.shape)
    print(train_label_OneHot[499:500])

    return (test_img, test_label, train_img_normalize, test_img_normalize, valid_img_normalize, train_label_OneHot,
            test_label_OneHot, valid_label_OneHot)

def pre2():
    DATA_DIR = "D:/chenhuan/dog_test/"  # 圖片資料夾路徑
    test_img = []
    test_label = []
    count = 0
    # 遍历dog_test文件夹中的所有jpg文件
    for filename in os.listdir(DATA_DIR):
        if filename.endswith(".jpg"):  # 检查文件扩展名
            # 根据文件名解析标签
            label = count
            im = Image.open(os.path.join(DATA_DIR, filename))
            arr_img = img_to_array(im)

            # 将数据加入测试集
            test_img.append(arr_img)
            test_label.append(label)
        count += 1
    # 将列表转换为numpy数组
    test_img = np.array(test_img)
    test_label = np.array(test_label)

    # 将图像数据标准化
    test_img_normalize = test_img.astype('float32') / 255.0

    # 将标签进行One-hot编码
    test_label_OneHot = to_categorical(test_label)
    print(test_img_normalize.shape)
    return (test_img, test_label, test_img_normalize, test_label_OneHot)
