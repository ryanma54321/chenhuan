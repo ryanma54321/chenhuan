{
 "cells": [
  {
   "cell_type": "code",
   "execution_count": null,
   "id": "25a65c5a-6e53-4cd0-8178-8b235b6e908e",
   "metadata": {},
   "outputs": [],
   "source": [
    "import random\n",
    "\n",
    "items = [(\"物品1\", 31, 70), (\"物品2\", 10, 20), (\"物品3\", 20, 39), (\"物品4\", 19, 37), (\"物品5\", 4, 7), (\"物品6\", 3, 5), (\"物品7\", 6, 10)]\n",
    "max_weight = 190\n",
    "iterations = 100 # 迭代100次\n",
    "\n",
    "def evaluate(solution):\n",
    "    total_value = 0\n",
    "    total_weight = 0\n",
    "    for i in range(len(solution)):\n",
    "        if solution[i] == 1:\n",
    "            total_weight += items[i][1]\n",
    "            total_value += items[i][2]\n",
    "    if total_weight > max_weight:\n",
    "        return 0  # 超重的解返回0\n",
    "    return total_value\n",
    "\n",
    "def generate_random_solution(): #隨機解\n",
    "    return [random.randint(0, 1) for _ in range(len(items))]\n",
    "\n",
    "def generate_neighbor_solution(solution): #鄰近解\n",
    "    neighbor = solution[:]\n",
    "    index = random.randint(0, len(items) - 1)\n",
    "    neighbor[index] = 1 - neighbor[index]  # 當前狀態取反\n",
    "    return neighbor\n",
    "\n",
    "def hill_climbing(iterations):\n",
    "    best_solution = generate_random_solution() #先取一隨機解當初始解，同時為最優解\n",
    "    best_value = evaluate(best_solution) #最優解的value\n",
    "    for _ in range(iterations): #在迭代中不斷找最優解的鄰近值，若比最優解好，則換其為最優解\n",
    "        neighbor_solution = generate_neighbor_solution(best_solution)\n",
    "        neighbor_value = evaluate(neighbor_solution)\n",
    "        if neighbor_value > best_value:\n",
    "            best_solution = neighbor_solution\n",
    "            best_value = neighbor_value\n",
    "    return best_solution, best_value\n",
    "\n",
    "best_solution, best_value = hill_climbing(iterations)\n",
    "print(\"最優解:\", best_solution)\n",
    "print(\"最優值:\", best_value)"
   ]
  }
 ],
 "metadata": {
  "kernelspec": {
   "display_name": "Python 3 (ipykernel)",
   "language": "python",
   "name": "python3"
  },
  "language_info": {
   "codemirror_mode": {
    "name": "ipython",
    "version": 3
   },
   "file_extension": ".py",
   "mimetype": "text/x-python",
   "name": "python",
   "nbconvert_exporter": "python",
   "pygments_lexer": "ipython3",
   "version": "3.11.7"
  }
 },
 "nbformat": 4,
 "nbformat_minor": 5
}
