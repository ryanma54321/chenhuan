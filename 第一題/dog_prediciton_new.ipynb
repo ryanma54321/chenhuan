import os
import pandas as pd
from keras.models import load_model
import numpy as np
from dog_pre import pre2

label_dict = {
    0: "Airedale",
    1: "Beagle",
    2: "Bloodhound",
    3: "Bluetick",
    4: "Chihuahua",
    5: "Collie",
    6: "Dingo",
    7: "French Bulldog",
    8: "German Sheperd",
    9: "Malinois",
    10: "Newfoundland",
    11: "Pekinese",
    12: "Pomeranian",
    13: "Pug",
    14: "Vizsla",
}


def add_predictions_to_excel(test_data_folder, predictions):
    # 获取 dog_test 文件夹中的所有檔名
    filenames = os.listdir(test_data_folder)

    # 建立一个空的 DataFrame `
    df = pd.DataFrame(columns=['檔名', '結果'])

    # 将新的预测结果添加到 DataFrame 中
    for i, prediction in enumerate(predictions):
        predicted_label_index = np.argmax(prediction)
        predicted_label = label_dict[predicted_label_index]
        original_filename = filenames[i]  # 获取原始檔名
        new_row = {'檔名': original_filename, '結果': predicted_label}
        df = pd.concat([df, pd.DataFrame([new_row])], ignore_index=True)

    # 将 DataFrame 保存到 Excel 文件中
    df.to_excel('test_data.xlsx', index=False)

# 加载模型
model = load_model('dog_train.h5')

# 加载测试数据并进行预测
(test_img, _, test_img_normalize, _) = pre2()
predictions = model.predict(test_img_normalize)

# 添加预测结果到已存在的 Excel 文件中
add_predictions_to_excel('dog_test', predictions)