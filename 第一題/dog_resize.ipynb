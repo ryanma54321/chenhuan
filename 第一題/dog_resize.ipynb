{
 "cells": [
  {
   "cell_type": "code",
   "execution_count": null,
   "id": "25a65c5a-6e53-4cd0-8178-8b235b6e908e",
   "metadata": {},
   "outputs": [],
   "source": [
    "from dog_model3 import create_densenet_model\n",
    "from dog_pre import pre\n",
    "import matplotlib.pyplot as plt\n",
    "def show_train_history(train_history, train, validation):\n",
    "    plt.plot(train_history.history[train])\n",
    "    plt.plot(train_history.history[validation])\n",
    "    plt.title('Train History')\n",
    "    plt.ylabel(train)\n",
    "    plt.xlabel('Epoch')\n",
    "    plt.legend(['train', 'validation'], loc='upper left')\n",
    "    plt.show()\n",
    "\n",
    "test_img, test_label, train_img_normalize, test_img_normalize, valid_img_normalize, train_label_OneHot, test_label_OneHot, valid_label_OneHot = pre()\n",
    "model = create_densenet_model()\n",
    "\n",
    "# 定義訓練方式\n",
    "model.compile(loss='categorical_crossentropy',\n",
    "              optimizer='adam', metrics=['accuracy'])\n",
    "# 開始訓練\n",
    "train_history = model.fit(x = train_img_normalize,\n",
    "                          y = train_label_OneHot, validation_data=(valid_img_normalize, valid_label_OneHot),\n",
    "                          epochs=70, batch_size=16, shuffle=True, verbose=2)\n",
    "\n",
    "\n",
    "show_train_history(train_history, 'accuracy', 'val_accuracy')\n",
    "show_train_history(train_history, 'loss', 'val_loss')\n",
    "model.save('dog_train.h5')"
   ]
  }
 ],
 "metadata": {
  "kernelspec": {
   "display_name": "Python 3 (ipykernel)",
   "language": "python",
   "name": "python3"
  },
  "language_info": {
   "codemirror_mode": {
    "name": "ipython",
    "version": 3
   },
   "file_extension": ".py",
   "mimetype": "text/x-python",
   "name": "python",
   "nbconvert_exporter": "python",
   "pygments_lexer": "ipython3",
   "version": "3.11.7"
  }
 },
 "nbformat": 4,
 "nbformat_minor": 5
}
