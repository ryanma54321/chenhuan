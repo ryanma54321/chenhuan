{
 "cells": [
  {
   "cell_type": "code",
   "execution_count": null,
   "id": "f25d76da-f7a3-4dde-96b5-0ca5ac9ceaa6",
   "metadata": {},
   "outputs": [],
   "source": [
    "import keras\n",
    "from keras import Sequential\n",
    "from keras.src.layers import Conv2D, Flatten, Dense\n",
    "from keras.src.optimizers import Adam\n",
    "from keras.layers import MaxPool2D\n",
    "\n",
    "\n",
    "def create_model():\n",
    "    model = Sequential()\n",
    "\n",
    "    # 第一層捲積、池化\n",
    "    model.add(Conv2D(filters = 64, kernel_size = (5,5), activation ='relu', input_shape = (224,224,3)))\n",
    "    model.add(MaxPool2D(pool_size=(2,2)))\n",
    "    # 第二層捲積、池化\n",
    "    model.add(Conv2D(filters = 32, kernel_size = (3,3), activation ='relu', kernel_regularizer = 'l2'))\n",
    "    model.add(MaxPool2D(pool_size=(2,2)))\n",
    "    # 第三層捲積、池化\n",
    "    model.add(Conv2D(filters = 16, kernel_size = (7,7), activation ='relu', kernel_regularizer = 'l2'))\n",
    "    model.add(MaxPool2D(pool_size=(2,2)))\n",
    "    # 第四層捲積、池化\n",
    "    model.add(Conv2D(filters = 8, kernel_size = (5,5), activation ='relu', kernel_regularizer = 'l2'))\n",
    "    model.add(MaxPool2D(pool_size=(2,2)))\n",
    "\n",
    "    model.add(Flatten())\n",
    "    model.add(Dense(128, activation = \"relu\", kernel_regularizer = 'l2'))\n",
    "    model.add(Dense(64, activation = \"relu\", kernel_regularizer = 'l2'))\n",
    "    model.add(Dense(15, activation = \"softmax\"))\n",
    "\n",
    "    model.compile(loss = 'categorical_crossentropy', optimizer = Adam(0.0001),metrics=['accuracy'])\n",
    "\n",
    "    model.summary()\n",
    "    return model"
   ]
  }
 ],
 "metadata": {
  "kernelspec": {
   "display_name": "Python 3 (ipykernel)",
   "language": "python",
   "name": "python3"
  },
  "language_info": {
   "codemirror_mode": {
    "name": "ipython",
    "version": 3
   },
   "file_extension": ".py",
   "mimetype": "text/x-python",
   "name": "python",
   "nbconvert_exporter": "python",
   "pygments_lexer": "ipython3",
   "version": "3.11.7"
  }
 },
 "nbformat": 4,
 "nbformat_minor": 5
}
