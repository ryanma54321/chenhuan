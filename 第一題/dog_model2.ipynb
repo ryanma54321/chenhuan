import keras
from keras import Sequential
from keras.src.layers import Conv2D, Flatten, Dense
from keras.src.optimizers import Adam
from keras.layers import MaxPool2D


def create_model():
    model = Sequential()

    # 第一層捲積、池化
    model.add(Conv2D(filters = 64, kernel_size = (5,5), activation ='relu', input_shape = (224,224,3)))
    model.add(MaxPool2D(pool_size=(2,2)))
    # 第二層捲積、池化
    model.add(Conv2D(filters = 32, kernel_size = (3,3), activation ='relu', kernel_regularizer = 'l2'))
    model.add(MaxPool2D(pool_size=(2,2)))
    # 第三層捲積、池化
    model.add(Conv2D(filters = 16, kernel_size = (7,7), activation ='relu', kernel_regularizer = 'l2'))
    model.add(MaxPool2D(pool_size=(2,2)))
    # 第四層捲積、池化
    model.add(Conv2D(filters = 8, kernel_size = (5,5), activation ='relu', kernel_regularizer = 'l2'))
    model.add(MaxPool2D(pool_size=(2,2)))

    model.add(Flatten())
    model.add(Dense(128, activation = "relu", kernel_regularizer = 'l2'))
    model.add(Dense(64, activation = "relu", kernel_regularizer = 'l2'))
    model.add(Dense(15, activation = "softmax"))

    model.compile(loss = 'categorical_crossentropy', optimizer = Adam(0.0001),metrics=['accuracy'])

    model.summary()
    return model