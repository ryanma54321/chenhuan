from dog_model3 import create_densenet_model
from dog_pre import pre
import matplotlib.pyplot as plt
def show_train_history(train_history, train, validation):
    plt.plot(train_history.history[train])
    plt.plot(train_history.history[validation])
    plt.title('Train History')
    plt.ylabel(train)
    plt.xlabel('Epoch')
    plt.legend(['train', 'validation'], loc='upper left')
    plt.show()

test_img, test_label, train_img_normalize, test_img_normalize, valid_img_normalize, train_label_OneHot, test_label_OneHot, valid_label_OneHot = pre()
model = create_densenet_model()

# Step1. 定義訓練方式
model.compile(loss='categorical_crossentropy',
              optimizer='adam', metrics=['accuracy'])
# Step2. 開始訓練
train_history = model.fit(x = train_img_normalize,
                          y = train_label_OneHot, validation_data=(valid_img_normalize, valid_label_OneHot),
                          epochs=70, batch_size=16, shuffle=True, verbose=2)


show_train_history(train_history, 'accuracy', 'val_accuracy')
show_train_history(train_history, 'loss', 'val_loss')
model.save('dog_train.h5')