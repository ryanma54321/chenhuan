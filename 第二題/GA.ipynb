{
 "cells": [
  {
   "cell_type": "code",
   "execution_count": null,
   "id": "25a65c5a-6e53-4cd0-8178-8b235b6e908e",
   "metadata": {},
   "outputs": [],
   "source": [
    "import os\n",
    "import pandas as pd\n",
    "from keras.models import load_model\n",
    "import numpy as np\n",
    "from dog_pre import pre2\n",
    "\n",
    "label_dict = {\n",
    "    0: \"Airedale\",\n",
    "    1: \"Beagle\",\n",
    "    2: \"Bloodhound\",\n",
    "    3: \"Bluetick\",\n",
    "    4: \"Chihuahua\",\n",
    "    5: \"Collie\",\n",
    "    6: \"Dingo\",\n",
    "    7: \"French Bulldog\",\n",
    "    8: \"German Sheperd\",\n",
    "    9: \"Malinois\",\n",
    "    10: \"Newfoundland\",\n",
    "    11: \"Pekinese\",\n",
    "    12: \"Pomeranian\",\n",
    "    13: \"Pug\",\n",
    "    14: \"Vizsla\",\n",
    "}\n",
    "\n",
    "\n",
    "def add_predictions_to_excel(test_data_folder, predictions):\n",
    "    # dog_test中所有檔名\n",
    "    filenames = os.listdir(test_data_folder)\n",
    "\n",
    "    # 建立一个空的 DataFrame\n",
    "    df = pd.DataFrame(columns=['檔名', '結果'])\n",
    "\n",
    "    # 加新的預測结果添加到 DataFrame 中\n",
    "    for i, prediction in enumerate(predictions):\n",
    "        predicted_label_index = np.argmax(prediction)\n",
    "        predicted_label = label_dict[predicted_label_index]\n",
    "        original_filename = filenames[i]  # 获取原始檔名\n",
    "        new_row = {'檔名': original_filename, '結果': predicted_label}\n",
    "        df = pd.concat([df, pd.DataFrame([new_row])], ignore_index=True)\n",
    "\n",
    "    # 将 DataFrame 保存到 Excel 文件中\n",
    "    df.to_excel('test_data.xlsx', index=False)\n",
    "\n",
    "# 加载模型\n",
    "model = load_model('dog_train.h5')\n",
    "\n",
    "# 加載並預測\n",
    "(test_img, _, test_img_normalize, _) = pre2()\n",
    "predictions = model.predict(test_img_normalize)\n",
    "\n",
    "add_predictions_to_excel('dog_test', predictions)"
   ]
  }
 ],
 "metadata": {
  "kernelspec": {
   "display_name": "Python 3 (ipykernel)",
   "language": "python",
   "name": "python3"
  },
  "language_info": {
   "codemirror_mode": {
    "name": "ipython",
    "version": 3
   },
   "file_extension": ".py",
   "mimetype": "text/x-python",
   "name": "python",
   "nbconvert_exporter": "python",
   "pygments_lexer": "ipython3",
   "version": "3.11.7"
  }
 },
 "nbformat": 4,
 "nbformat_minor": 5
}
